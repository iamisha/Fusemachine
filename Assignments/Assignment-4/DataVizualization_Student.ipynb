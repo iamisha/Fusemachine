{
 "cells": [
  {
   "cell_type": "markdown",
   "id": "0",
   "metadata": {
    "deletable": false,
    "editable": false,
    "id": "d1518e59-8aa6-401c-a47d-f084db1d04b3",
    "nbgrader": {
     "cell_type": "markdown",
     "checksum": "7c764afa34cf05eddaab123800e9c8da",
     "grade": false,
     "grade_id": "cell-238b126da763755e",
     "locked": true,
     "schema_version": 3,
     "solution": false,
     "task": false
    },
    "tags": []
   },
   "source": [
    "# Assignment: Data Visualization and Presentation - AI Fellowship\n",
    "\n",
    "### Exploring Employee Dataset with Data Visualizations\n",
    "\n",
    "In this assignment, you will work with a synthetic employee dataset that captures various demographic, educational, and professional attributes such as age, experience, education level, job role, salary, performance scores, and more.\n",
    "\n",
    "The goal of this assignment is to practice and apply univariate and bivariate data visualization techniques using libraries like Matplotlib and Seaborn. You will create and interpret a variety of plot types to uncover trends, distributions, and relationships within the data.\n",
    "\n",
    "**Learning Objectives:**\n",
    "\n",
    "- Understand how to choose the appropriate plot for different types of data\n",
    "\n",
    "- Gain insights from visual patterns and anomalies\n",
    "\n",
    "- Practice customization and annotation to make plots more informative\n",
    "\n",
    "- Interpret visualizations in a real-world context (e.g., HR analytics)"
   ]
  },
  {
   "cell_type": "code",
   "execution_count": null,
   "id": "1",
   "metadata": {
    "colab": {
     "base_uri": "https://localhost:8080/"
    },
    "id": "i8jKw1-RrpES",
    "outputId": "7533db06-88c7-47c1-8b38-e15884330f14"
   },
   "outputs": [],
   "source": [
    "!pip install PlotChecker"
   ]
  },
  {
   "cell_type": "code",
   "execution_count": null,
   "id": "2",
   "metadata": {
    "deletable": false,
    "editable": false,
    "id": "e36827a1",
    "nbgrader": {
     "cell_type": "code",
     "checksum": "3d0e1c799a4123ed029a9c9e12ff3c51",
     "grade": false,
     "grade_id": "cell-e0815cf97f546cb4",
     "locked": true,
     "schema_version": 3,
     "solution": false,
     "task": false
    },
    "tags": []
   },
   "outputs": [],
   "source": [
    "import numpy as np\n",
    "import pandas as pd\n",
    "import matplotlib.pyplot as plt\n",
    "import seaborn as sns\n",
    "from plotchecker import PlotChecker"
   ]
  },
  {
   "cell_type": "markdown",
   "id": "3",
   "metadata": {
    "deletable": false,
    "editable": false,
    "id": "86d21952",
    "nbgrader": {
     "cell_type": "markdown",
     "checksum": "702ebb1755a1f2111bdf2ebf822f61fa",
     "grade": false,
     "grade_id": "cell-8d15a7062f3d9450",
     "locked": true,
     "schema_version": 3,
     "solution": false,
     "task": false
    },
    "tags": []
   },
   "source": [
    "## Importing Data"
   ]
  },
  {
   "cell_type": "code",
   "execution_count": null,
   "id": "4",
   "metadata": {
    "colab": {
     "base_uri": "https://localhost:8080/",
     "height": 206
    },
    "deletable": false,
    "editable": false,
    "id": "fd8b7149",
    "nbgrader": {
     "cell_type": "code",
     "checksum": "7e65eb5b816566e33fe129e0c5e8b927",
     "grade": false,
     "grade_id": "cell-6d3b5cc072a56cb1",
     "locked": true,
     "schema_version": 3,
     "solution": false,
     "task": false
    },
    "outputId": "2471e295-20b7-4fa7-fe20-265d1dd705d0",
    "tags": []
   },
   "outputs": [],
   "source": [
    "df = pd.read_csv(\"https://raw.githubusercontent.com/AayushFuse/data/refs/heads/main/emp_info.csv\")\n",
    "df.head()"
   ]
  },
  {
   "cell_type": "markdown",
   "id": "5",
   "metadata": {
    "deletable": false,
    "editable": false,
    "id": "6517af71",
    "nbgrader": {
     "cell_type": "markdown",
     "checksum": "2afe64914c0849132ad496cfc56326ff",
     "grade": false,
     "grade_id": "cell-97af71f35821dc7c",
     "locked": true,
     "schema_version": 3,
     "solution": false,
     "task": false
    },
    "tags": []
   },
   "source": [
    "## Data Descriptions\n",
    "\n",
    "- **Age**: Age of the employee in years.\n",
    "\n",
    "- **Experience**: Number of years the employee has worked professionally.\n",
    "\n",
    "- **Salary**: Annual salary of the employee in USD.\n",
    "\n",
    "- **Performance_Score**: Employee’s performance rating on a scale from 1 (lowest) to 5 (highest).\n",
    "\n",
    "- **Work_Life_Balance**: Self-reported rating of work-life balance, from 1 (poor) to 5 (excellent).\n",
    "\n",
    "- **Department**: The department in which the employee works (e.g., Engineering, HR, Finance).\n",
    "\n",
    "- **Education_Level**: The highest level of education attained by the employee.\n",
    "\n",
    "- **Gender**: Gender identity of the employee.\n",
    "\n",
    "- **Marital_Status**: Current marital status of the employee (e.g., Single, Married).\n",
    "\n",
    "- **Job_Role**: The job title or role of the employee within the organization.\n"
   ]
  },
  {
   "cell_type": "markdown",
   "id": "6",
   "metadata": {
    "deletable": false,
    "editable": false,
    "id": "5fb35fca-48ce-4f55-9402-01175cb433bd",
    "nbgrader": {
     "cell_type": "markdown",
     "checksum": "d0a8d421bd6c7866834a9f31713d9c20",
     "grade": false,
     "grade_id": "cell-4a6156e6c1f897a3",
     "locked": true,
     "schema_version": 3,
     "solution": false,
     "task": false
    },
    "tags": []
   },
   "source": [
    "### BASIC PLOTTING TASKS"
   ]
  },
  {
   "cell_type": "code",
   "execution_count": null,
   "id": "7",
   "metadata": {
    "colab": {
     "base_uri": "https://localhost:8080/",
     "height": 504
    },
    "deletable": false,
    "editable": true,
    "id": "7edce24f-28ef-4eee-891e-ba14ad6258f9",
    "nbgrader": {
     "cell_type": "code",
     "checksum": "885b7c2d9022796ba1935837a2d180a1",
     "grade": false,
     "grade_id": "cell-ad86836d938221e7",
     "locked": false,
     "schema_version": 3,
     "solution": true,
     "task": false
    },
    "outputId": "1862817a-296b-41f6-f47d-7dcc703dcec1",
    "tags": [
     "Ex-1-Task-1"
    ]
   },
   "outputs": [],
   "source": [
    "### Ex-1-Task-1\n",
    "fig, ax = plt.subplots(figsize=(8, 5))\n",
    "# Plot a histogram to explore the distribution of salaries in the dataset.\n",
    "# Keep the title of the plot \"Salary Distribution\"\n",
    "### BEGIN SOLUTION\n",
    "# YOUR CODE HERE\n",
    "sns.histplot(data=df, x=\"Salary\", bins=30, kde=True, ax=ax)\n",
    "ax.set_title(\"Salary Distribution\")\n",
    "ax.set_xlabel(\"Salary\")\n",
    "ax.set_ylabel(\"Frequency\")\n",
    "### END SOLUTION"
   ]
  },
  {
   "cell_type": "code",
   "execution_count": null,
   "id": "8",
   "metadata": {
    "deletable": false,
    "editable": false,
    "id": "fa0f4eda-5b51-4f89-b2dd-b1cd09285c32",
    "nbgrader": {
     "cell_type": "code",
     "checksum": "3e9a157d373665450ac70b5126b4aada",
     "grade": true,
     "grade_id": "cell-93527b07fcdd6f1b",
     "locked": true,
     "points": 2,
     "schema_version": 3,
     "solution": false,
     "task": false
    },
    "tags": [
     "Ex-1-Task-1"
    ]
   },
   "outputs": [],
   "source": [
    "# INTENTIONALLY LEFT BLANK\n"
   ]
  },
  {
   "cell_type": "code",
   "execution_count": null,
   "id": "9",
   "metadata": {
    "colab": {
     "base_uri": "https://localhost:8080/",
     "height": 504
    },
    "deletable": false,
    "editable": true,
    "id": "7ae49fee-773a-40f1-afaa-c661520cd583",
    "nbgrader": {
     "cell_type": "code",
     "checksum": "3581848bec3b2669be60475459f00c97",
     "grade": false,
     "grade_id": "cell-fb9d9cd96ec40643",
     "locked": false,
     "schema_version": 3,
     "solution": true,
     "task": false
    },
    "outputId": "3e24cec6-c0d3-4882-c57a-2404053b80f2",
    "tags": [
     "Ex-1-Task-2"
    ]
   },
   "outputs": [],
   "source": [
    "### Ex-1-Task-2\n",
    "# Create a scatterplot to explore the relationship between Age and Salary.\n",
    "fig, ax = plt.subplots(figsize=(8, 5))\n",
    "### BEGIN SOLUTION\n",
    "# YOUR CODE HERE\n",
    "sns.scatterplot(data=df, x=\"Age\", y=\"Salary\", ax=ax)\n",
    "ax.set_title(\"Relationship between Age and Salary\")\n",
    "ax.set_xlabel(\"Age\")\n",
    "ax.set_ylabel(\"Salary\")\n",
    "### END SOLUTION"
   ]
  },
  {
   "cell_type": "code",
   "execution_count": null,
   "id": "10",
   "metadata": {
    "deletable": false,
    "editable": false,
    "id": "d5991db2-f806-438f-a8e1-42eb61872ac4",
    "nbgrader": {
     "cell_type": "code",
     "checksum": "4c36dc1ab065ca409a1cd4db85355375",
     "grade": true,
     "grade_id": "cell-0c5df6c7dc11db86",
     "locked": true,
     "points": 2,
     "schema_version": 3,
     "solution": false,
     "task": false
    },
    "tags": [
     "Ex-1-Task-2"
    ]
   },
   "outputs": [],
   "source": [
    "# INTENTIONALLY LEFT BLANK\n"
   ]
  },
  {
   "cell_type": "code",
   "execution_count": null,
   "id": "11",
   "metadata": {
    "colab": {
     "base_uri": "https://localhost:8080/",
     "height": 542
    },
    "deletable": false,
    "editable": true,
    "id": "99ed326b-e461-4a7f-80a9-a2bb0cfb3802",
    "nbgrader": {
     "cell_type": "code",
     "checksum": "219ff3d7f78fd26308d125aabf9ab0e4",
     "grade": false,
     "grade_id": "cell-27a3304ea2b99624",
     "locked": false,
     "schema_version": 3,
     "solution": true,
     "task": false
    },
    "outputId": "8e2839e1-650d-4eca-ab67-39fe8c56fd72",
    "tags": [
     "Ex-1-Task-3"
    ]
   },
   "outputs": [],
   "source": [
    "### Ex-1-Task-3\n",
    "# Plot average salary per department using a line chart.\n",
    "# Set Title: \"Average Salary by Department\"\n",
    "# Use 'x' marker\n",
    "fig, ax = plt.subplots(figsize=(8, 5))\n",
    "### BEGIN SOLUTION\n",
    "# YOUR CODE HERE\n",
    "avg_salary = df.groupby(\"Department\")[\"Salary\"].mean().reset_index()\n",
    "sns.lineplot(data=avg_salary, x=\"Department\", y=\"Salary\", marker='x', ax=ax)\n",
    "ax.set_title(\"Average Salary by Department\")\n",
    "ax.set_xlabel(\"Department\")\n",
    "ax.set_ylabel(\"Average Salary\")\n",
    "ax.tick_params(axis='x', rotation=45)\n",
    "### END SOLUTION"
   ]
  },
  {
   "cell_type": "code",
   "execution_count": null,
   "id": "12",
   "metadata": {
    "deletable": false,
    "editable": false,
    "id": "e08f7441-707a-407e-ad4e-55419a9b5748",
    "nbgrader": {
     "cell_type": "code",
     "checksum": "9ce5b2b4a83a99ae335ac9fc9ab7a1e1",
     "grade": true,
     "grade_id": "cell-4a92fdefb721166c",
     "locked": true,
     "points": 2,
     "schema_version": 3,
     "solution": false,
     "task": false
    },
    "tags": [
     "Ex-1-Task-3"
    ]
   },
   "outputs": [],
   "source": [
    "# INTENTIONALLY LEFT BLANK"
   ]
  },
  {
   "cell_type": "markdown",
   "id": "13",
   "metadata": {
    "editable": true,
    "id": "f1ae78d1-18ad-4d36-903f-b091edb57666",
    "tags": []
   },
   "source": [
    "### UNIVARIATE ANALYSIS TASKS"
   ]
  },
  {
   "cell_type": "code",
   "execution_count": null,
   "id": "14",
   "metadata": {
    "colab": {
     "base_uri": "https://localhost:8080/",
     "height": 504
    },
    "deletable": false,
    "editable": true,
    "id": "1528bb66-1a97-4fec-b51a-e7e5d30a6332",
    "nbgrader": {
     "cell_type": "code",
     "checksum": "b916924effb7560c788839f34d17b2d3",
     "grade": false,
     "grade_id": "cell-b6ea717b05a37bb8",
     "locked": false,
     "schema_version": 3,
     "solution": true,
     "task": false
    },
    "outputId": "c9a320ae-ab42-4f7b-ac0b-2016cf62f6a4",
    "tags": [
     "Ex-2-Task-1"
    ]
   },
   "outputs": [],
   "source": [
    "### Ex-2-Task-1\n",
    "# Create a boxplot to visualize the distribution of Age.\n",
    "# Set title: Boxplot of Age\n",
    "fig, ax = plt.subplots(figsize=(8, 5))\n",
    "### BEGIN SOLUTION\n",
    "# YOUR CODE HERE\n",
    "sns.boxplot(data=df, x=\"Age\", ax=ax)\n",
    "ax.set_title(\"Boxplot of Age\")\n",
    "ax.set_xlabel(\"Age\")\n",
    "### END SOLUTION"
   ]
  },
  {
   "cell_type": "code",
   "execution_count": null,
   "id": "15",
   "metadata": {
    "deletable": false,
    "editable": false,
    "id": "416bbe8c-1ca5-46e1-a5ef-5785a3b63653",
    "nbgrader": {
     "cell_type": "code",
     "checksum": "6da8305d74239c458b7680801d1aa579",
     "grade": true,
     "grade_id": "cell-2dcd3c36f5250f2a",
     "locked": true,
     "points": 0,
     "schema_version": 3,
     "solution": false,
     "task": false
    },
    "tags": [
     "Ex-2-Task-1"
    ]
   },
   "outputs": [],
   "source": [
    "# INTENTIONALLY LEFT BLANK"
   ]
  },
  {
   "cell_type": "code",
   "execution_count": null,
   "id": "16",
   "metadata": {
    "colab": {
     "base_uri": "https://localhost:8080/",
     "height": 541
    },
    "deletable": false,
    "editable": true,
    "id": "9c6e2266-6074-402a-bc2e-87d23d9a6e78",
    "nbgrader": {
     "cell_type": "code",
     "checksum": "03fa2b5480ed5be87a2ad1206304dc57",
     "grade": false,
     "grade_id": "cell-264cb9c5fe8c0718",
     "locked": false,
     "schema_version": 3,
     "solution": true,
     "task": false
    },
    "outputId": "b5f89972-47f5-4850-8661-e54788cce4ca",
    "tags": [
     "Ex-2-Task-2"
    ]
   },
   "outputs": [],
   "source": [
    "### Ex-2-Task-2\n",
    "# Plot a bar chart showing the count of each education level.\n",
    "# Set title: \"Education Level Count\"\n",
    "fig, ax = plt.subplots(figsize=(8, 5))\n",
    "### BEGIN SOLUTION\n",
    "# YOUR CODE HERE\n",
    "sns.countplot(data=df, x=\"Education_Level\", ax=ax)\n",
    "ax.set_title(\"Education Level Count\")\n",
    "ax.set_xlabel(\"Education Level\")\n",
    "ax.set_ylabel(\"Count\")\n",
    "ax.tick_params(axis='x', rotation=45)\n",
    "### END SOLUTION"
   ]
  },
  {
   "cell_type": "code",
   "execution_count": null,
   "id": "17",
   "metadata": {
    "deletable": false,
    "editable": false,
    "id": "0173f1ea-02ae-4b22-b014-87c6a13e797b",
    "nbgrader": {
     "cell_type": "code",
     "checksum": "5d1b1e4d2eaabca87be570fb679aea7a",
     "grade": true,
     "grade_id": "cell-d1979ce77b53ef8b",
     "locked": true,
     "points": 2,
     "schema_version": 3,
     "solution": false,
     "task": false
    },
    "tags": [
     "Ex-2-Task-2"
    ]
   },
   "outputs": [],
   "source": [
    "# INTENTIONALLY LEFT BLANK"
   ]
  },
  {
   "cell_type": "markdown",
   "id": "18",
   "metadata": {
    "editable": true,
    "id": "82b6e2eb-d60f-4d7f-9272-4db01032a10a",
    "tags": []
   },
   "source": [
    "### BIVARIATE ANALYSIS TASKS"
   ]
  },
  {
   "cell_type": "code",
   "execution_count": null,
   "id": "19",
   "metadata": {
    "colab": {
     "base_uri": "https://localhost:8080/",
     "height": 504
    },
    "deletable": false,
    "editable": true,
    "id": "f8718e3f-0940-4f3a-bb97-11aa77ec1a65",
    "nbgrader": {
     "cell_type": "code",
     "checksum": "8d0390ac187a48a969f7ff440b12379d",
     "grade": false,
     "grade_id": "cell-0859b14d0c51c47e",
     "locked": false,
     "schema_version": 3,
     "solution": true,
     "task": false
    },
    "outputId": "49b57ea4-aed0-4653-a574-1ca341ca57f0",
    "tags": [
     "Ex-3-Task-1"
    ]
   },
   "outputs": [],
   "source": [
    "### Ex-3-Task-1\n",
    "# Create a scatterplot of Experience vs Salary, colored by Gender.\n",
    "fig, ax = plt.subplots(figsize=(8, 5))\n",
    "### BEGIN SOLUTION\n",
    "# YOUR CODE HERE\n",
    "sns.scatterplot(data=df, x=\"Experience\", y=\"Salary\", hue=\"Gender\", ax=ax)\n",
    "ax.set_title(\"Experience vs Salary by Gender\")\n",
    "ax.set_xlabel(\"Experience\")\n",
    "ax.set_ylabel(\"Salary\")\n",
    "### END SOLUTION"
   ]
  },
  {
   "cell_type": "code",
   "execution_count": null,
   "id": "20",
   "metadata": {
    "deletable": false,
    "editable": false,
    "id": "c3075734-c5be-4e6b-a398-ede890d4a7b8",
    "nbgrader": {
     "cell_type": "code",
     "checksum": "3d9d2f82891af4e793b07afc85909a43",
     "grade": true,
     "grade_id": "cell-c692b045a8b03f5d",
     "locked": true,
     "points": 2,
     "schema_version": 3,
     "solution": false,
     "task": false
    },
    "tags": [
     "Ex-3-Task-1"
    ]
   },
   "outputs": [],
   "source": [
    "# INTENTIONALLY LEFT BLANK"
   ]
  },
  {
   "cell_type": "code",
   "execution_count": null,
   "id": "21",
   "metadata": {
    "colab": {
     "base_uri": "https://localhost:8080/",
     "height": 619
    },
    "deletable": false,
    "editable": true,
    "id": "1a68100c-d97c-4df1-8fab-eb827e4630a0",
    "nbgrader": {
     "cell_type": "code",
     "checksum": "453ac209755cf8835816d2ffe5d0e3b1",
     "grade": false,
     "grade_id": "cell-262d0d0a3d0fe595",
     "locked": false,
     "schema_version": 3,
     "solution": true,
     "task": false
    },
    "outputId": "b1c84f5d-7d6d-4f92-ca82-9d3ab2164689",
    "tags": [
     "Ex-3-Task-2"
    ]
   },
   "outputs": [],
   "source": [
    "### Ex-3-Task-2\n",
    "# Create a boxplot showing Salary distribution across Departments.\n",
    "fig, ax = plt.subplots(figsize=(10, 6))\n",
    "### BEGIN SOLUTION\n",
    "# YOUR CODE HERE\n",
    "sns.boxplot(data=df, x=\"Department\", y=\"Salary\", ax=ax)\n",
    "ax.set_title(\"Salary Distribution Across Departments\")\n",
    "ax.set_xlabel(\"Department\")\n",
    "ax.set_ylabel(\"Salary\")\n",
    "ax.tick_params(axis='x', rotation=45)\n",
    "### END SOLUTION"
   ]
  },
  {
   "cell_type": "code",
   "execution_count": null,
   "id": "22",
   "metadata": {
    "deletable": false,
    "editable": false,
    "id": "78eca52b-68b8-40fb-a376-0c33e51285f2",
    "nbgrader": {
     "cell_type": "code",
     "checksum": "4357356099c249952aa6f69e9ec30ccb",
     "grade": true,
     "grade_id": "cell-7345ea07152ba7b2",
     "locked": true,
     "points": 0,
     "schema_version": 3,
     "solution": false,
     "task": false
    },
    "tags": [
     "Ex-3-Task-2"
    ]
   },
   "outputs": [],
   "source": [
    "# INTENTIONALLY LEFT BLANK"
   ]
  },
  {
   "cell_type": "code",
   "execution_count": null,
   "id": "23",
   "metadata": {
    "colab": {
     "base_uri": "https://localhost:8080/",
     "height": 682
    },
    "deletable": false,
    "editable": true,
    "id": "49771996-f5ba-4ce9-8909-653f19332e7c",
    "nbgrader": {
     "cell_type": "code",
     "checksum": "d66263a60c0e3415fdb2f7df7a38385a",
     "grade": false,
     "grade_id": "cell-c660177476c23aa6",
     "locked": false,
     "schema_version": 3,
     "solution": true,
     "task": false
    },
    "outputId": "77f61193-12e1-4adc-e923-17094dd5afe0",
    "tags": [
     "Ex-3-Task-3"
    ]
   },
   "outputs": [],
   "source": [
    "### Ex-3-Task-3\n",
    "# Show correlation between numerical variables using a heatmap.\n",
    "fig, ax = plt.subplots(figsize=(10, 6))\n",
    "# Use seaborn heatmap\n",
    "### BEGIN SOLUTION\n",
    "# YOUR CODE HERE\n",
    "corr = df.select_dtypes(include=['number']).corr()\n",
    "sns.heatmap(corr, annot=True, cmap='coolwarm', fmt=\".2f\", ax=ax)\n",
    "ax.set_title(\"Correlation Heatmap of Numerical Variables\")\n",
    "### END SOLUTION"
   ]
  },
  {
   "cell_type": "code",
   "execution_count": null,
   "id": "24",
   "metadata": {
    "deletable": false,
    "editable": false,
    "id": "e36355d3-4cac-445a-8f39-ea4d7401f1d3",
    "nbgrader": {
     "cell_type": "code",
     "checksum": "225f4569789276293baef9abf2317012",
     "grade": true,
     "grade_id": "cell-e9a5c5f23387c34a",
     "locked": true,
     "points": 3,
     "schema_version": 3,
     "solution": false,
     "task": false
    },
    "tags": [
     "Ex-3-Task-3"
    ]
   },
   "outputs": [],
   "source": [
    "# INTENTIONALLY LEFT BLANK"
   ]
  },
  {
   "cell_type": "code",
   "execution_count": null,
   "id": "25",
   "metadata": {
    "colab": {
     "base_uri": "https://localhost:8080/",
     "height": 581
    },
    "deletable": false,
    "editable": true,
    "id": "39687360-b096-4dee-b9a7-6038acbeb3da",
    "nbgrader": {
     "cell_type": "code",
     "checksum": "b22171305f3d26b23da6762ad5914be4",
     "grade": false,
     "grade_id": "cell-cc3be03ea87e4033",
     "locked": false,
     "schema_version": 3,
     "solution": true,
     "task": false
    },
    "outputId": "51ca26ec-90fe-4210-f6c6-9e2c801ff243",
    "tags": [
     "Ex-4-Task-1"
    ]
   },
   "outputs": [],
   "source": [
    "### Ex-4-Task-1\n",
    "# Use seaborn (declarative) to plot count of each marital status.\n",
    "fig, ax = plt.subplots(figsize=(10, 6))\n",
    "### BEGIN SOLUTION\n",
    "# YOUR CODE HERE\n",
    "sns.countplot(data=df, x=\"Marital_Status\", ax=ax)\n",
    "ax.set_title(\"Count of Each Marital Status\")\n",
    "ax.set_xlabel(\"Marital Status\")\n",
    "ax.set_ylabel(\"Count\")\n",
    "### END SOLUTION"
   ]
  },
  {
   "cell_type": "code",
   "execution_count": null,
   "id": "26",
   "metadata": {
    "deletable": false,
    "editable": false,
    "id": "55ae3fc7-9329-4da3-8c9b-e71f56618135",
    "nbgrader": {
     "cell_type": "code",
     "checksum": "27d4e3848dc1a2213d37ed2c1b2dff1d",
     "grade": true,
     "grade_id": "cell-1128547c07cf46ad",
     "locked": true,
     "points": 2,
     "schema_version": 3,
     "solution": false,
     "task": false
    },
    "tags": [
     "Ex-4-Task-1"
    ]
   },
   "outputs": [],
   "source": [
    "# INTENTIONALLY LEFT BLANK"
   ]
  },
  {
   "cell_type": "code",
   "execution_count": null,
   "id": "27",
   "metadata": {
    "id": "0k9xi_lzsdmp"
   },
   "outputs": [],
   "source": []
  }
 ],
 "metadata": {
  "colab": {
   "provenance": []
  },
  "kernelspec": {
   "display_name": "Python 3 (ipykernel)",
   "language": "python",
   "name": "python3"
  },
  "language_info": {
   "codemirror_mode": {
    "name": "ipython",
    "version": 3
   },
   "file_extension": ".py",
   "mimetype": "text/x-python",
   "name": "python",
   "nbconvert_exporter": "python",
   "pygments_lexer": "ipython3",
   "version": "3.11.12"
  }
 },
 "nbformat": 4,
 "nbformat_minor": 5
}
